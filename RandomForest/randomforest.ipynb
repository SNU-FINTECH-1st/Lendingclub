{
  "cells": [
    {
      "cell_type": "markdown",
      "metadata": {
        "id": "UPYLVwXc5j_7"
      },
      "source": [
        "# 데이터 전처리"
      ]
    },
    {
      "cell_type": "code",
      "execution_count": 1,
      "metadata": {
        "colab": {
          "base_uri": "https://localhost:8080/"
        },
        "id": "tBRqbU5TFxRP",
        "outputId": "fe20af42-c3bf-42f6-eab8-5873ec7e08c8"
      },
      "outputs": [
        {
          "name": "stdout",
          "output_type": "stream",
          "text": [
            "Mounted at /content/drive\n"
          ]
        }
      ],
      "source": [
        "# prompt: googlemount\n",
        "\n",
        "from google.colab import drive\n",
        "drive.mount('/content/drive')\n"
      ]
    },
    {
      "cell_type": "code",
      "execution_count": 10,
      "metadata": {
        "colab": {
          "base_uri": "https://localhost:8080/"
        },
        "id": "e49PLZMD1hbh",
        "outputId": "ff2ed1b8-a951-458b-bd25-587982aadf97"
      },
      "outputs": [
        {
          "name": "stdout",
          "output_type": "stream",
          "text": [
            "Collecting shap\n",
            "  Downloading shap-0.46.0-cp310-cp310-manylinux_2_12_x86_64.manylinux2010_x86_64.manylinux_2_17_x86_64.manylinux2014_x86_64.whl.metadata (24 kB)\n",
            "Requirement already satisfied: numpy in /usr/local/lib/python3.10/dist-packages (from shap) (1.26.4)\n",
            "Requirement already satisfied: scipy in /usr/local/lib/python3.10/dist-packages (from shap) (1.13.1)\n",
            "Requirement already satisfied: scikit-learn in /usr/local/lib/python3.10/dist-packages (from shap) (1.3.2)\n",
            "Requirement already satisfied: pandas in /usr/local/lib/python3.10/dist-packages (from shap) (2.1.4)\n",
            "Requirement already satisfied: tqdm>=4.27.0 in /usr/local/lib/python3.10/dist-packages (from shap) (4.66.5)\n",
            "Requirement already satisfied: packaging>20.9 in /usr/local/lib/python3.10/dist-packages (from shap) (24.1)\n",
            "Collecting slicer==0.0.8 (from shap)\n",
            "  Downloading slicer-0.0.8-py3-none-any.whl.metadata (4.0 kB)\n",
            "Requirement already satisfied: numba in /usr/local/lib/python3.10/dist-packages (from shap) (0.60.0)\n",
            "Requirement already satisfied: cloudpickle in /usr/local/lib/python3.10/dist-packages (from shap) (2.2.1)\n",
            "Requirement already satisfied: llvmlite<0.44,>=0.43.0dev0 in /usr/local/lib/python3.10/dist-packages (from numba->shap) (0.43.0)\n",
            "Requirement already satisfied: python-dateutil>=2.8.2 in /usr/local/lib/python3.10/dist-packages (from pandas->shap) (2.8.2)\n",
            "Requirement already satisfied: pytz>=2020.1 in /usr/local/lib/python3.10/dist-packages (from pandas->shap) (2024.1)\n",
            "Requirement already satisfied: tzdata>=2022.1 in /usr/local/lib/python3.10/dist-packages (from pandas->shap) (2024.1)\n",
            "Requirement already satisfied: joblib>=1.1.1 in /usr/local/lib/python3.10/dist-packages (from scikit-learn->shap) (1.4.2)\n",
            "Requirement already satisfied: threadpoolctl>=2.0.0 in /usr/local/lib/python3.10/dist-packages (from scikit-learn->shap) (3.5.0)\n",
            "Requirement already satisfied: six>=1.5 in /usr/local/lib/python3.10/dist-packages (from python-dateutil>=2.8.2->pandas->shap) (1.16.0)\n",
            "Downloading shap-0.46.0-cp310-cp310-manylinux_2_12_x86_64.manylinux2010_x86_64.manylinux_2_17_x86_64.manylinux2014_x86_64.whl (540 kB)\n",
            "\u001b[?25l   \u001b[90m━━━━━━━━━━━━━━━━━━━━━━━━━━━━━━━━━━━━━━━━\u001b[0m \u001b[32m0.0/540.1 kB\u001b[0m \u001b[31m?\u001b[0m eta \u001b[36m-:--:--\u001b[0m\r\u001b[2K   \u001b[90m━━━━━━━━━━━━━━━━━━━━━━━━━━━━━━━━━━━━━━━━\u001b[0m \u001b[32m540.1/540.1 kB\u001b[0m \u001b[31m32.8 MB/s\u001b[0m eta \u001b[36m0:00:00\u001b[0m\n",
            "\u001b[?25hDownloading slicer-0.0.8-py3-none-any.whl (15 kB)\n",
            "Installing collected packages: slicer, shap\n",
            "Successfully installed shap-0.46.0 slicer-0.0.8\n"
          ]
        }
      ],
      "source": [
        "!pip install shap"
      ]
    },
    {
      "cell_type": "code",
      "execution_count": 2,
      "metadata": {
        "colab": {
          "base_uri": "https://localhost:8080/"
        },
        "collapsed": true,
        "id": "i-xm2rcQDXqx",
        "outputId": "e4b895e3-05e1-4f55-e448-4ea96fd98d4c"
      },
      "outputs": [
        {
          "name": "stdout",
          "output_type": "stream",
          "text": [
            "Looking in indexes: https://pypi.org/simple, https://pypi.nvidia.com\n",
            "Collecting cuml-cu12==24.8.*\n",
            "  Downloading https://pypi.nvidia.com/cuml-cu12/cuml_cu12-24.8.0-cp310-cp310-manylinux_2_28_x86_64.whl (1291.4 MB)\n",
            "\u001b[2K     \u001b[90m━━━━━━━━━━━━━━━━━━━━━━━━━━━━━━━━━━━━━━━━\u001b[0m \u001b[32m1.3/1.3 GB\u001b[0m \u001b[31m1.1 MB/s\u001b[0m eta \u001b[36m0:00:00\u001b[0m\n",
            "\u001b[?25hCollecting cudf-cu12==24.8.* (from cuml-cu12==24.8.*)\n",
            "  Downloading https://pypi.nvidia.com/cudf-cu12/cudf_cu12-24.8.2-cp310-cp310-manylinux_2_28_x86_64.whl (516.7 MB)\n",
            "\u001b[2K     \u001b[90m━━━━━━━━━━━━━━━━━━━━━━━━━━━━━━━━━━━━━━━━\u001b[0m \u001b[32m516.7/516.7 MB\u001b[0m \u001b[31m2.1 MB/s\u001b[0m eta \u001b[36m0:00:00\u001b[0m\n",
            "\u001b[?25hRequirement already satisfied: cupy-cuda12x>=12.0.0 in /usr/local/lib/python3.10/dist-packages (from cuml-cu12==24.8.*) (12.2.0)\n",
            "Collecting dask-cuda==24.8.* (from cuml-cu12==24.8.*)\n",
            "  Downloading https://pypi.nvidia.com/dask-cuda/dask_cuda-24.8.2-py3-none-any.whl (129 kB)\n",
            "\u001b[2K     \u001b[90m━━━━━━━━━━━━━━━━━━━━━━━━━━━━━━━━━━━━━━━━\u001b[0m \u001b[32m129.6/129.6 kB\u001b[0m \u001b[31m10.9 MB/s\u001b[0m eta \u001b[36m0:00:00\u001b[0m\n",
            "\u001b[?25hCollecting dask-cudf-cu12==24.8.* (from cuml-cu12==24.8.*)\n",
            "  Downloading https://pypi.nvidia.com/dask-cudf-cu12/dask_cudf_cu12-24.8.2-py3-none-any.whl (53 kB)\n",
            "\u001b[2K     \u001b[90m━━━━━━━━━━━━━━━━━━━━━━━━━━━━━━━━━━━━━━━━\u001b[0m \u001b[32m53.4/53.4 kB\u001b[0m \u001b[31m4.3 MB/s\u001b[0m eta \u001b[36m0:00:00\u001b[0m\n",
            "\u001b[?25hRequirement already satisfied: joblib>=0.11 in /usr/local/lib/python3.10/dist-packages (from cuml-cu12==24.8.*) (1.4.2)\n",
            "Requirement already satisfied: numba>=0.57 in /usr/local/lib/python3.10/dist-packages (from cuml-cu12==24.8.*) (0.60.0)\n",
            "Requirement already satisfied: packaging in /usr/local/lib/python3.10/dist-packages (from cuml-cu12==24.8.*) (24.1)\n",
            "Collecting pylibraft-cu12==24.8.* (from cuml-cu12==24.8.*)\n",
            "  Downloading https://pypi.nvidia.com/pylibraft-cu12/pylibraft_cu12-24.8.1-cp310-cp310-manylinux_2_28_x86_64.whl (783.8 MB)\n",
            "\u001b[2K     \u001b[90m━━━━━━━━━━━━━━━━━━━━━━━━━━━━━━━━━━━━━━━━\u001b[0m \u001b[32m783.8/783.8 MB\u001b[0m \u001b[31m1.6 MB/s\u001b[0m eta \u001b[36m0:00:00\u001b[0m\n",
            "\u001b[?25hCollecting raft-dask-cu12==24.8.* (from cuml-cu12==24.8.*)\n",
            "  Downloading https://pypi.nvidia.com/raft-dask-cu12/raft_dask_cu12-24.8.1-cp310-cp310-manylinux_2_28_x86_64.whl (190.6 MB)\n",
            "\u001b[2K     \u001b[90m━━━━━━━━━━━━━━━━━━━━━━━━━━━━━━━━━━━━━━━━\u001b[0m \u001b[32m190.6/190.6 MB\u001b[0m \u001b[31m11.9 MB/s\u001b[0m eta \u001b[36m0:00:00\u001b[0m\n",
            "\u001b[?25hCollecting rapids-dask-dependency==24.8.* (from cuml-cu12==24.8.*)\n",
            "  Downloading https://pypi.nvidia.com/rapids-dask-dependency/rapids_dask_dependency-24.8.0-py3-none-any.whl (15 kB)\n",
            "Collecting rmm-cu12==24.8.* (from cuml-cu12==24.8.*)\n",
            "  Downloading https://pypi.nvidia.com/rmm-cu12/rmm_cu12-24.8.2-cp310-cp310-manylinux_2_24_x86_64.manylinux_2_28_x86_64.whl (1.7 MB)\n",
            "\u001b[2K     \u001b[90m━━━━━━━━━━━━━━━━━━━━━━━━━━━━━━━━━━━━━━━━\u001b[0m \u001b[32m1.7/1.7 MB\u001b[0m \u001b[31m67.2 MB/s\u001b[0m eta \u001b[36m0:00:00\u001b[0m\n",
            "\u001b[?25hRequirement already satisfied: scipy>=1.8.0 in /usr/local/lib/python3.10/dist-packages (from cuml-cu12==24.8.*) (1.13.1)\n",
            "Collecting treelite==4.3.0 (from cuml-cu12==24.8.*)\n",
            "  Downloading treelite-4.3.0-py3-none-manylinux2014_x86_64.whl.metadata (1.5 kB)\n",
            "Requirement already satisfied: cachetools in /usr/local/lib/python3.10/dist-packages (from cudf-cu12==24.8.*->cuml-cu12==24.8.*) (5.5.0)\n",
            "Requirement already satisfied: cuda-python<13.0a0,>=12.0 in /usr/local/lib/python3.10/dist-packages (from cudf-cu12==24.8.*->cuml-cu12==24.8.*) (12.2.1)\n",
            "Requirement already satisfied: fsspec>=0.6.0 in /usr/local/lib/python3.10/dist-packages (from cudf-cu12==24.8.*->cuml-cu12==24.8.*) (2024.6.1)\n",
            "Requirement already satisfied: numpy<2.0a0,>=1.23 in /usr/local/lib/python3.10/dist-packages (from cudf-cu12==24.8.*->cuml-cu12==24.8.*) (1.26.4)\n",
            "Requirement already satisfied: nvtx>=0.2.1 in /usr/local/lib/python3.10/dist-packages (from cudf-cu12==24.8.*->cuml-cu12==24.8.*) (0.2.10)\n",
            "Requirement already satisfied: pandas<2.2.3dev0,>=2.0 in /usr/local/lib/python3.10/dist-packages (from cudf-cu12==24.8.*->cuml-cu12==24.8.*) (2.1.4)\n",
            "Collecting pyarrow<16.2.0a0,>=16.1.0 (from cudf-cu12==24.8.*->cuml-cu12==24.8.*)\n",
            "  Downloading pyarrow-16.1.0-cp310-cp310-manylinux_2_28_x86_64.whl.metadata (3.0 kB)\n",
            "Requirement already satisfied: pynvjitlink-cu12 in /usr/local/lib/python3.10/dist-packages (from cudf-cu12==24.8.*->cuml-cu12==24.8.*) (0.3.0)\n",
            "Requirement already satisfied: rich in /usr/local/lib/python3.10/dist-packages (from cudf-cu12==24.8.*->cuml-cu12==24.8.*) (13.8.0)\n",
            "Requirement already satisfied: typing_extensions>=4.0.0 in /usr/local/lib/python3.10/dist-packages (from cudf-cu12==24.8.*->cuml-cu12==24.8.*) (4.12.2)\n",
            "Requirement already satisfied: click>=8.1 in /usr/local/lib/python3.10/dist-packages (from dask-cuda==24.8.*->cuml-cu12==24.8.*) (8.1.7)\n",
            "Collecting pynvml<11.5,>=11.0.0 (from dask-cuda==24.8.*->cuml-cu12==24.8.*)\n",
            "  Downloading pynvml-11.4.1-py3-none-any.whl.metadata (7.7 kB)\n",
            "Requirement already satisfied: zict>=2.0.0 in /usr/local/lib/python3.10/dist-packages (from dask-cuda==24.8.*->cuml-cu12==24.8.*) (3.0.0)\n",
            "Collecting distributed-ucxx-cu12==0.39.* (from raft-dask-cu12==24.8.*->cuml-cu12==24.8.*)\n",
            "  Downloading https://pypi.nvidia.com/distributed-ucxx-cu12/distributed_ucxx_cu12-0.39.1-py3-none-any.whl (24 kB)\n",
            "Collecting ucx-py-cu12==0.39.* (from raft-dask-cu12==24.8.*->cuml-cu12==24.8.*)\n",
            "  Downloading https://pypi.nvidia.com/ucx-py-cu12/ucx_py_cu12-0.39.2-cp310-cp310-manylinux_2_17_x86_64.manylinux2014_x86_64.manylinux_2_28_x86_64.whl (2.1 MB)\n",
            "\u001b[2K     \u001b[90m━━━━━━━━━━━━━━━━━━━━━━━━━━━━━━━━━━━━━━━━\u001b[0m \u001b[32m2.1/2.1 MB\u001b[0m \u001b[31m76.5 MB/s\u001b[0m eta \u001b[36m0:00:00\u001b[0m\n",
            "\u001b[?25hRequirement already satisfied: dask==2024.7.1 in /usr/local/lib/python3.10/dist-packages (from rapids-dask-dependency==24.8.*->cuml-cu12==24.8.*) (2024.7.1)\n",
            "Requirement already satisfied: distributed==2024.7.1 in /usr/local/lib/python3.10/dist-packages (from rapids-dask-dependency==24.8.*->cuml-cu12==24.8.*) (2024.7.1)\n",
            "Collecting dask-expr (from rapids-dask-dependency==24.8.*->cuml-cu12==24.8.*)\n",
            "  Downloading dask_expr-1.1.12-py3-none-any.whl.metadata (2.5 kB)\n",
            "Requirement already satisfied: cloudpickle>=1.5.0 in /usr/local/lib/python3.10/dist-packages (from dask==2024.7.1->rapids-dask-dependency==24.8.*->cuml-cu12==24.8.*) (2.2.1)\n",
            "Requirement already satisfied: partd>=1.4.0 in /usr/local/lib/python3.10/dist-packages (from dask==2024.7.1->rapids-dask-dependency==24.8.*->cuml-cu12==24.8.*) (1.4.2)\n",
            "Requirement already satisfied: pyyaml>=5.3.1 in /usr/local/lib/python3.10/dist-packages (from dask==2024.7.1->rapids-dask-dependency==24.8.*->cuml-cu12==24.8.*) (6.0.2)\n",
            "Requirement already satisfied: toolz>=0.10.0 in /usr/local/lib/python3.10/dist-packages (from dask==2024.7.1->rapids-dask-dependency==24.8.*->cuml-cu12==24.8.*) (0.12.1)\n",
            "Requirement already satisfied: importlib-metadata>=4.13.0 in /usr/local/lib/python3.10/dist-packages (from dask==2024.7.1->rapids-dask-dependency==24.8.*->cuml-cu12==24.8.*) (8.4.0)\n",
            "Requirement already satisfied: jinja2>=2.10.3 in /usr/local/lib/python3.10/dist-packages (from distributed==2024.7.1->rapids-dask-dependency==24.8.*->cuml-cu12==24.8.*) (3.1.4)\n",
            "Requirement already satisfied: locket>=1.0.0 in /usr/local/lib/python3.10/dist-packages (from distributed==2024.7.1->rapids-dask-dependency==24.8.*->cuml-cu12==24.8.*) (1.0.0)\n",
            "Requirement already satisfied: msgpack>=1.0.0 in /usr/local/lib/python3.10/dist-packages (from distributed==2024.7.1->rapids-dask-dependency==24.8.*->cuml-cu12==24.8.*) (1.0.8)\n",
            "Requirement already satisfied: psutil>=5.7.2 in /usr/local/lib/python3.10/dist-packages (from distributed==2024.7.1->rapids-dask-dependency==24.8.*->cuml-cu12==24.8.*) (5.9.5)\n",
            "Requirement already satisfied: sortedcontainers>=2.0.5 in /usr/local/lib/python3.10/dist-packages (from distributed==2024.7.1->rapids-dask-dependency==24.8.*->cuml-cu12==24.8.*) (2.4.0)\n",
            "Requirement already satisfied: tblib>=1.6.0 in /usr/local/lib/python3.10/dist-packages (from distributed==2024.7.1->rapids-dask-dependency==24.8.*->cuml-cu12==24.8.*) (3.0.0)\n",
            "Requirement already satisfied: tornado>=6.0.4 in /usr/local/lib/python3.10/dist-packages (from distributed==2024.7.1->rapids-dask-dependency==24.8.*->cuml-cu12==24.8.*) (6.3.3)\n",
            "Requirement already satisfied: urllib3>=1.24.3 in /usr/local/lib/python3.10/dist-packages (from distributed==2024.7.1->rapids-dask-dependency==24.8.*->cuml-cu12==24.8.*) (2.0.7)\n",
            "Collecting ucxx-cu12==0.39.* (from distributed-ucxx-cu12==0.39.*->raft-dask-cu12==24.8.*->cuml-cu12==24.8.*)\n",
            "  Downloading https://pypi.nvidia.com/ucxx-cu12/ucxx_cu12-0.39.1-cp310-cp310-manylinux_2_28_x86_64.whl (5.4 MB)\n",
            "\u001b[2K     \u001b[90m━━━━━━━━━━━━━━━━━━━━━━━━━━━━━━━━━━━━━━━━\u001b[0m \u001b[32m5.4/5.4 MB\u001b[0m \u001b[31m103.6 MB/s\u001b[0m eta \u001b[36m0:00:00\u001b[0m\n",
            "\u001b[?25hCollecting libucx-cu12<1.16,>=1.15.0 (from ucx-py-cu12==0.39.*->raft-dask-cu12==24.8.*->cuml-cu12==24.8.*)\n",
            "  Downloading libucx_cu12-1.15.0.post1-py3-none-manylinux_2_28_x86_64.whl.metadata (2.9 kB)\n",
            "Requirement already satisfied: fastrlock>=0.5 in /usr/local/lib/python3.10/dist-packages (from cupy-cuda12x>=12.0.0->cuml-cu12==24.8.*) (0.8.2)\n",
            "Requirement already satisfied: llvmlite<0.44,>=0.43.0dev0 in /usr/local/lib/python3.10/dist-packages (from numba>=0.57->cuml-cu12==24.8.*) (0.43.0)\n",
            "Requirement already satisfied: cython in /usr/local/lib/python3.10/dist-packages (from cuda-python<13.0a0,>=12.0->cudf-cu12==24.8.*->cuml-cu12==24.8.*) (3.0.11)\n",
            "Requirement already satisfied: python-dateutil>=2.8.2 in /usr/local/lib/python3.10/dist-packages (from pandas<2.2.3dev0,>=2.0->cudf-cu12==24.8.*->cuml-cu12==24.8.*) (2.8.2)\n",
            "Requirement already satisfied: pytz>=2020.1 in /usr/local/lib/python3.10/dist-packages (from pandas<2.2.3dev0,>=2.0->cudf-cu12==24.8.*->cuml-cu12==24.8.*) (2024.1)\n",
            "Requirement already satisfied: tzdata>=2022.1 in /usr/local/lib/python3.10/dist-packages (from pandas<2.2.3dev0,>=2.0->cudf-cu12==24.8.*->cuml-cu12==24.8.*) (2024.1)\n",
            "INFO: pip is looking at multiple versions of dask-expr to determine which version is compatible with other requirements. This could take a while.\n",
            "Collecting dask-expr (from rapids-dask-dependency==24.8.*->cuml-cu12==24.8.*)\n",
            "  Downloading dask_expr-1.1.11-py3-none-any.whl.metadata (2.5 kB)\n",
            "  Downloading dask_expr-1.1.10-py3-none-any.whl.metadata (2.5 kB)\n",
            "  Downloading dask_expr-1.1.9-py3-none-any.whl.metadata (2.5 kB)\n",
            "Requirement already satisfied: markdown-it-py>=2.2.0 in /usr/local/lib/python3.10/dist-packages (from rich->cudf-cu12==24.8.*->cuml-cu12==24.8.*) (3.0.0)\n",
            "Requirement already satisfied: pygments<3.0.0,>=2.13.0 in /usr/local/lib/python3.10/dist-packages (from rich->cudf-cu12==24.8.*->cuml-cu12==24.8.*) (2.16.1)\n",
            "Requirement already satisfied: zipp>=0.5 in /usr/local/lib/python3.10/dist-packages (from importlib-metadata>=4.13.0->dask==2024.7.1->rapids-dask-dependency==24.8.*->cuml-cu12==24.8.*) (3.20.1)\n",
            "Requirement already satisfied: MarkupSafe>=2.0 in /usr/local/lib/python3.10/dist-packages (from jinja2>=2.10.3->distributed==2024.7.1->rapids-dask-dependency==24.8.*->cuml-cu12==24.8.*) (2.1.5)\n",
            "Requirement already satisfied: mdurl~=0.1 in /usr/local/lib/python3.10/dist-packages (from markdown-it-py>=2.2.0->rich->cudf-cu12==24.8.*->cuml-cu12==24.8.*) (0.1.2)\n",
            "Requirement already satisfied: six>=1.5 in /usr/local/lib/python3.10/dist-packages (from python-dateutil>=2.8.2->pandas<2.2.3dev0,>=2.0->cudf-cu12==24.8.*->cuml-cu12==24.8.*) (1.16.0)\n",
            "Downloading treelite-4.3.0-py3-none-manylinux2014_x86_64.whl (915 kB)\n",
            "\u001b[2K   \u001b[90m━━━━━━━━━━━━━━━━━━━━━━━━━━━━━━━━━━━━━━━━\u001b[0m \u001b[32m916.0/916.0 kB\u001b[0m \u001b[31m40.2 MB/s\u001b[0m eta \u001b[36m0:00:00\u001b[0m\n",
            "\u001b[?25hDownloading pyarrow-16.1.0-cp310-cp310-manylinux_2_28_x86_64.whl (40.8 MB)\n",
            "\u001b[2K   \u001b[90m━━━━━━━━━━━━━━━━━━━━━━━━━━━━━━━━━━━━━━━━\u001b[0m \u001b[32m40.8/40.8 MB\u001b[0m \u001b[31m48.6 MB/s\u001b[0m eta \u001b[36m0:00:00\u001b[0m\n",
            "\u001b[?25hDownloading pynvml-11.4.1-py3-none-any.whl (46 kB)\n",
            "\u001b[2K   \u001b[90m━━━━━━━━━━━━━━━━━━━━━━━━━━━━━━━━━━━━━━━━\u001b[0m \u001b[32m47.0/47.0 kB\u001b[0m \u001b[31m3.7 MB/s\u001b[0m eta \u001b[36m0:00:00\u001b[0m\n",
            "\u001b[?25hDownloading dask_expr-1.1.9-py3-none-any.whl (241 kB)\n",
            "\u001b[2K   \u001b[90m━━━━━━━━━━━━━━━━━━━━━━━━━━━━━━━━━━━━━━━━\u001b[0m \u001b[32m241.9/241.9 kB\u001b[0m \u001b[31m20.1 MB/s\u001b[0m eta \u001b[36m0:00:00\u001b[0m\n",
            "\u001b[?25hDownloading libucx_cu12-1.15.0.post1-py3-none-manylinux_2_28_x86_64.whl (25.3 MB)\n",
            "\u001b[2K   \u001b[90m━━━━━━━━━━━━━━━━━━━━━━━━━━━━━━━━━━━━━━━━\u001b[0m \u001b[32m25.3/25.3 MB\u001b[0m \u001b[31m34.2 MB/s\u001b[0m eta \u001b[36m0:00:00\u001b[0m\n",
            "\u001b[?25hInstalling collected packages: pynvml, pyarrow, libucx-cu12, ucx-py-cu12, treelite, rmm-cu12, ucxx-cu12, pylibraft-cu12, dask-expr, cudf-cu12, rapids-dask-dependency, distributed-ucxx-cu12, dask-cudf-cu12, dask-cuda, raft-dask-cu12, cuml-cu12\n",
            "  Attempting uninstall: pyarrow\n",
            "    Found existing installation: pyarrow 14.0.2\n",
            "    Uninstalling pyarrow-14.0.2:\n",
            "      Successfully uninstalled pyarrow-14.0.2\n",
            "  Attempting uninstall: rmm-cu12\n",
            "    Found existing installation: rmm-cu12 24.4.0\n",
            "    Uninstalling rmm-cu12-24.4.0:\n",
            "      Successfully uninstalled rmm-cu12-24.4.0\n",
            "  Attempting uninstall: cudf-cu12\n",
            "    Found existing installation: cudf-cu12 24.4.1\n",
            "    Uninstalling cudf-cu12-24.4.1:\n",
            "      Successfully uninstalled cudf-cu12-24.4.1\n",
            "\u001b[31mERROR: pip's dependency resolver does not currently take into account all the packages that are installed. This behaviour is the source of the following dependency conflicts.\n",
            "ibis-framework 8.0.0 requires pyarrow<16,>=2, but you have pyarrow 16.1.0 which is incompatible.\u001b[0m\u001b[31m\n",
            "\u001b[0mSuccessfully installed cudf-cu12-24.8.2 cuml-cu12-24.8.0 dask-cuda-24.8.2 dask-cudf-cu12-24.8.2 dask-expr-1.1.9 distributed-ucxx-cu12-0.39.1 libucx-cu12-1.15.0.post1 pyarrow-16.1.0 pylibraft-cu12-24.8.1 pynvml-11.4.1 raft-dask-cu12-24.8.1 rapids-dask-dependency-24.8.0 rmm-cu12-24.8.2 treelite-4.3.0 ucx-py-cu12-0.39.2 ucxx-cu12-0.39.1\n"
          ]
        }
      ],
      "source": [
        "!pip install \\\n",
        "    --extra-index-url=https://pypi.nvidia.com \\\n",
        "    cuml-cu12==24.8.*\n",
        "\n",
        "\n"
      ]
    },
    {
      "cell_type": "code",
      "execution_count": 4,
      "metadata": {
        "id": "zgwPo5ICI0a8"
      },
      "outputs": [],
      "source": [
        "    # cugraph-cu12==24.8.* \\\n",
        "    # cuspatial-cu12==24.8.* \\\n",
        "    # cuproj-cu12==24.8.* \\\n",
        "    # cuxfilter-cu12==24.8.* \\\n",
        "    # cucim-cu12==24.8.* \\\n",
        "    # pylibraft-cu12==24.8.* \\\n",
        "    # raft-dask-cu12==24.8.* \\\n",
        "    # cudf-cu12==24.8.* \\\n",
        "    # dask-cudf-cu12==24.8.* \\\n",
        "    # cuvs-cu12==24.8.*"
      ]
    },
    {
      "cell_type": "code",
      "execution_count": 2,
      "metadata": {
        "colab": {
          "base_uri": "https://localhost:8080/",
          "height": 36
        },
        "collapsed": true,
        "id": "owUtvIXFDLUx",
        "outputId": "4f845262-6f16-4d0d-b061-34518e4ba1e5"
      },
      "outputs": [
        {
          "data": {
            "application/vnd.google.colaboratory.intrinsic+json": {
              "type": "string"
            },
            "text/plain": [
              "'24.08.00'"
            ]
          },
          "execution_count": 2,
          "metadata": {},
          "output_type": "execute_result"
        }
      ],
      "source": [
        "import cuml\n",
        "cuml.__version__"
      ]
    },
    {
      "cell_type": "code",
      "execution_count": 11,
      "metadata": {
        "id": "Yf3G7TWbDLU2"
      },
      "outputs": [],
      "source": [
        "import pandas\n",
        "import numpy\n",
        "import matplotlib.pyplot as plt\n",
        "import seaborn as sns\n",
        "from sklearn.model_selection import train_test_split\n",
        "from sklearn.preprocessing import StandardScaler\n",
        "from sklearn.preprocessing import OneHotEncoder\n",
        "from sklearn.preprocessing import LabelEncoder\n",
        "from sklearn.model_selection import train_test_split, GridSearchCV, RandomizedSearchCV\n",
        "from sklearn.preprocessing import PolynomialFeatures\n",
        "import seaborn as sns\n",
        "import sklearn\n",
        "import math\n",
        "import statistics\n",
        "import warnings\n",
        "import os\n",
        "import pickle\n",
        "from cuml.ensemble import RandomForestRegressor\n",
        "from sklearn.metrics import mean_squared_error, mean_absolute_error, r2_score\n",
        "from joblib import parallel_backend\n",
        "from sklearn.inspection import permutation_importance\n",
        "import shap\n",
        "\n",
        "warnings.filterwarnings(action='ignore')\n",
        "pandas.options.display.float_format = '{:.5f}'.format\n",
        "pandas.set_option('display.max_columns',None)"
      ]
    },
    {
      "cell_type": "code",
      "execution_count": 7,
      "metadata": {
        "id": "GK6WWTXGDLU2"
      },
      "outputs": [],
      "source": [
        "temp_data=pandas.read_csv(r\"/content/drive/MyDrive/lending_club/current_out_all_clean_data.csv\",low_memory=False,keep_default_na=True)"
      ]
    },
    {
      "cell_type": "code",
      "execution_count": 12,
      "metadata": {
        "id": "6pxlBF9IDLU4"
      },
      "outputs": [],
      "source": [
        "temp_data.drop('Unnamed: 0',axis=1,inplace=True)\n",
        "select_feature='''\n",
        "loan_amnt\n",
        "term\n",
        "int_rate\n",
        "installment\n",
        "sub_grade\n",
        "emp_length\n",
        "home_ownership\n",
        "annual_inc\n",
        "verification_status\n",
        "purpose\n",
        "dti\n",
        "delinq_2yrs\n",
        "fico_range_high\n",
        "mths_since_last_delinq\n",
        "open_acc\n",
        "pub_rec\n",
        "revol_util\n",
        "total_acc\n",
        "initial_list_status\n",
        "last_fico_range_high\n",
        "collections_12_mths_ex_med\n",
        "mths_since_last_major_derog\n",
        "application_type\n",
        "annual_inc_joint\n",
        "dti_joint\n",
        "verification_status_joint\n",
        "acc_now_delinq\n",
        "tot_cur_bal\n",
        "open_acc_6m\n",
        "open_act_il\n",
        "open_il_12m\n",
        "open_il_24m\n",
        "mths_since_rcnt_il\n",
        "total_bal_il\n",
        "il_util\n",
        "open_rv_12m\n",
        "max_bal_bc\n",
        "all_util\n",
        "total_rev_hi_lim\n",
        "total_cu_tl\n",
        "inq_last_12m\n",
        "acc_open_past_24mths\n",
        "avg_cur_bal\n",
        "bc_open_to_buy\n",
        "bc_util\n",
        "chargeoff_within_12_mths\n",
        "delinq_amnt\n",
        "mo_sin_old_il_acct\n",
        "mo_sin_old_rev_tl_op\n",
        "mo_sin_rcnt_rev_tl_op\n",
        "mo_sin_rcnt_tl\n",
        "mort_acc\n",
        "mths_since_recent_bc\n",
        "mths_since_recent_bc_dlq\n",
        "mths_since_recent_inq\n",
        "mths_since_recent_revol_delinq\n",
        "num_accts_ever_120_pd\n",
        "num_actv_bc_tl\n",
        "num_actv_rev_tl\n",
        "num_bc_sats\n",
        "num_bc_tl\n",
        "num_il_tl\n",
        "num_op_rev_tl\n",
        "num_rev_accts\n",
        "num_rev_tl_bal_gt_0\n",
        "num_sats\n",
        "num_tl_90g_dpd_24m\n",
        "num_tl_op_past_12m\n",
        "pct_tl_nvr_dlq\n",
        "percent_bc_gt_75\n",
        "pub_rec_bankruptcies\n",
        "tax_liens\n",
        "tot_hi_cred_lim\n",
        "total_bal_ex_mort\n",
        "total_bc_limit\n",
        "total_il_high_credit_limit\n",
        "revol_bal_joint\n",
        "sec_app_fico_range_low\n",
        "sec_app_fico_range_high\n",
        "sec_app_inq_last_6mths\n",
        "sec_app_mort_acc\n",
        "sec_app_open_acc\n",
        "sec_app_revol_util\n",
        "sec_app_open_act_il\n",
        "sec_app_num_rev_accts\n",
        "sec_app_collections_12_mths_ex_med\n",
        "'''\n",
        "select_feature=select_feature.strip().split('\\n')\n",
        "x_temp=temp_data[select_feature]\n",
        "x_temp['bar_ex_mort_year']=x_temp.total_bal_ex_mort/x_temp.annual_inc\n",
        "x_temp['bar_il_year']=x_temp.total_bal_il/x_temp.annual_inc\n",
        "x_temp['loan_year']=x_temp.loan_amnt/x_temp.annual_inc\n",
        "\n",
        "\n"
      ]
    },
    {
      "cell_type": "code",
      "execution_count": 13,
      "metadata": {
        "id": "8pM39LF8N2qD"
      },
      "outputs": [],
      "source": [
        "def clean_data(x) :\n",
        "    x.replace([numpy.inf],0,inplace=True)\n",
        "    x.replace([numpy.NAN],0,inplace=True)"
      ]
    },
    {
      "cell_type": "code",
      "execution_count": 15,
      "metadata": {
        "id": "xWKPqX2RSFmy"
      },
      "outputs": [],
      "source": [
        "y_temp=temp_data['total_rec_prncp']/temp_data['funded_amnt']\n",
        "clean_data(x_temp)\n",
        "clean_data(y_temp)\n"
      ]
    },
    {
      "cell_type": "code",
      "execution_count": 17,
      "metadata": {
        "id": "f4VDOeIYKLlY"
      },
      "outputs": [],
      "source": [
        "def splitset(x,y) :\n",
        "    x_train, x_test, y_train, y_test = train_test_split(x, y, test_size=0.2, random_state=1)\n",
        "    x_train, x_valid, y_train, y_valid = train_test_split(x_train, y_train, test_size=0.25, random_state=1)\n",
        "    return x_train.reset_index(drop=True),\\\n",
        "        y_train.reset_index(drop=True),\\\n",
        "        x_valid.reset_index(drop=True),\\\n",
        "        y_valid.reset_index(drop=True),\\\n",
        "        x_test.reset_index(drop=True),\\\n",
        "        y_test.reset_index(drop=True)\n",
        "\n",
        "bx_train,y_train,bx_valid, y_valid,bx_test,y_test=splitset(x_temp,y_temp)\n",
        "\n",
        "## scaling, encoding\n",
        "def onehot_train_valid(x_train,x_valid) :\n",
        "    one=OneHotEncoder()\n",
        "    temp_final=pandas.DataFrame()\n",
        "    temp_valid_final=pandas.DataFrame()\n",
        "    temp_data=x_train.select_dtypes(include='object')\n",
        "    temp_data2=x_valid.select_dtypes(include='object')\n",
        "    for i in range(0,len(temp_data.columns)):\n",
        "        one.fit(temp_data.iloc[:,i].values.reshape(-1,1))\n",
        "        temp_x=one.transform(temp_data.iloc[:,i].values.reshape(-1,1)).toarray().astype(int)\n",
        "        temp_x=pandas.DataFrame(temp_x,\n",
        "                            columns=[str(one.categories_[0][i]) for i in\n",
        "                                     range(len(one.categories_[0]))\n",
        "                            ]\n",
        "                            )\n",
        "        temp_x_valid = one.transform(temp_data2.iloc[:, i].values.reshape(-1, 1)).toarray().astype(int)\n",
        "        temp_x_valid = pandas.DataFrame(temp_x_valid,\n",
        "                              columns=[str(one.categories_[0][i]) for i in\n",
        "                                       range(len(one.categories_[0]))\n",
        "                                       ]\n",
        "                              )\n",
        "\n",
        "        temp_final=pandas.concat([temp_x,temp_final],axis=1)\n",
        "        temp_valid_final=pandas.concat([temp_x_valid,temp_valid_final],axis=1)\n",
        "    return temp_final.reset_index(drop=True), temp_valid_final.reset_index(drop=True)\n",
        "\n",
        "def stsc_train_valid(x_train,x_valid) :\n",
        "    stdsc=StandardScaler()\n",
        "    temp_x=x_train.select_dtypes(exclude='object')\n",
        "    temp_valid=x_valid.select_dtypes(exclude='object')\n",
        "    name=temp_x.columns\n",
        "    stdsc.fit(numpy.array(temp_x).reshape(-1,len(name)))\n",
        "    temp_x = stdsc.transform(numpy.array(temp_x).reshape(-1, len(name)))\n",
        "    temp_x=pandas.DataFrame(temp_x)\n",
        "    temp_x.columns=name\n",
        "    temp_x_valid=stdsc.transform(numpy.array(temp_valid).reshape(-1,len(name)))\n",
        "    temp_x_valid=pandas.DataFrame(temp_x_valid)\n",
        "    temp_x_valid.columns=name\n",
        "\n",
        "    return temp_x.reset_index(drop=True), temp_x_valid.reset_index(drop=True)\n",
        "\n",
        "one_train,one_valid=onehot_train_valid(x_train=bx_train,x_valid=bx_valid)\n",
        "stsc_train,stsc_valid=stsc_train_valid(bx_train,bx_valid)\n",
        "\n",
        "x_train=pandas.concat([stsc_train,one_train],axis=1)\n",
        "x_valid=pandas.concat([stsc_valid,one_valid],axis=1)\n"
      ]
    },
    {
      "cell_type": "markdown",
      "metadata": {
        "id": "-so6vzb_5fs0"
      },
      "source": [
        "# 모델 실험 테이블"
      ]
    },
    {
      "cell_type": "markdown",
      "metadata": {
        "id": "VB4CdUX56Uv8"
      },
      "source": [
        "###  1.1 그리드 서치 파라미터 설정1\n",
        "    'n_estimators': [50, 100, 200],  # 트리의 개수\n",
        "    'max_depth': [5, 10, 20],        # 트리의 최대 깊이\n",
        "    'min_samples_split': [2, 5, 10]  # 노드를 나누기 위한 최소 샘플 수"
      ]
    },
    {
      "cell_type": "code",
      "execution_count": null,
      "metadata": {
        "colab": {
          "base_uri": "https://localhost:8080/",
          "height": 136
        },
        "id": "sNsvlyGDDLU4",
        "outputId": "940c23d2-c5e3-4e7d-9335-5b6627d9d320"
      },
      "outputs": [
        {
          "name": "stdout",
          "output_type": "stream",
          "text": [
            "Fitting 5 folds for each of 27 candidates, totalling 135 fits\n"
          ]
        },
        {
          "data": {
            "text/html": [
              "<style>#sk-container-id-1 {color: black;}#sk-container-id-1 pre{padding: 0;}#sk-container-id-1 div.sk-toggleable {background-color: white;}#sk-container-id-1 label.sk-toggleable__label {cursor: pointer;display: block;width: 100%;margin-bottom: 0;padding: 0.3em;box-sizing: border-box;text-align: center;}#sk-container-id-1 label.sk-toggleable__label-arrow:before {content: \"▸\";float: left;margin-right: 0.25em;color: #696969;}#sk-container-id-1 label.sk-toggleable__label-arrow:hover:before {color: black;}#sk-container-id-1 div.sk-estimator:hover label.sk-toggleable__label-arrow:before {color: black;}#sk-container-id-1 div.sk-toggleable__content {max-height: 0;max-width: 0;overflow: hidden;text-align: left;background-color: #f0f8ff;}#sk-container-id-1 div.sk-toggleable__content pre {margin: 0.2em;color: black;border-radius: 0.25em;background-color: #f0f8ff;}#sk-container-id-1 input.sk-toggleable__control:checked~div.sk-toggleable__content {max-height: 200px;max-width: 100%;overflow: auto;}#sk-container-id-1 input.sk-toggleable__control:checked~label.sk-toggleable__label-arrow:before {content: \"▾\";}#sk-container-id-1 div.sk-estimator input.sk-toggleable__control:checked~label.sk-toggleable__label {background-color: #d4ebff;}#sk-container-id-1 div.sk-label input.sk-toggleable__control:checked~label.sk-toggleable__label {background-color: #d4ebff;}#sk-container-id-1 input.sk-hidden--visually {border: 0;clip: rect(1px 1px 1px 1px);clip: rect(1px, 1px, 1px, 1px);height: 1px;margin: -1px;overflow: hidden;padding: 0;position: absolute;width: 1px;}#sk-container-id-1 div.sk-estimator {font-family: monospace;background-color: #f0f8ff;border: 1px dotted black;border-radius: 0.25em;box-sizing: border-box;margin-bottom: 0.5em;}#sk-container-id-1 div.sk-estimator:hover {background-color: #d4ebff;}#sk-container-id-1 div.sk-parallel-item::after {content: \"\";width: 100%;border-bottom: 1px solid gray;flex-grow: 1;}#sk-container-id-1 div.sk-label:hover label.sk-toggleable__label {background-color: #d4ebff;}#sk-container-id-1 div.sk-serial::before {content: \"\";position: absolute;border-left: 1px solid gray;box-sizing: border-box;top: 0;bottom: 0;left: 50%;z-index: 0;}#sk-container-id-1 div.sk-serial {display: flex;flex-direction: column;align-items: center;background-color: white;padding-right: 0.2em;padding-left: 0.2em;position: relative;}#sk-container-id-1 div.sk-item {position: relative;z-index: 1;}#sk-container-id-1 div.sk-parallel {display: flex;align-items: stretch;justify-content: center;background-color: white;position: relative;}#sk-container-id-1 div.sk-item::before, #sk-container-id-1 div.sk-parallel-item::before {content: \"\";position: absolute;border-left: 1px solid gray;box-sizing: border-box;top: 0;bottom: 0;left: 50%;z-index: -1;}#sk-container-id-1 div.sk-parallel-item {display: flex;flex-direction: column;z-index: 1;position: relative;background-color: white;}#sk-container-id-1 div.sk-parallel-item:first-child::after {align-self: flex-end;width: 50%;}#sk-container-id-1 div.sk-parallel-item:last-child::after {align-self: flex-start;width: 50%;}#sk-container-id-1 div.sk-parallel-item:only-child::after {width: 0;}#sk-container-id-1 div.sk-dashed-wrapped {border: 1px dashed gray;margin: 0 0.4em 0.5em 0.4em;box-sizing: border-box;padding-bottom: 0.4em;background-color: white;}#sk-container-id-1 div.sk-label label {font-family: monospace;font-weight: bold;display: inline-block;line-height: 1.2em;}#sk-container-id-1 div.sk-label-container {text-align: center;}#sk-container-id-1 div.sk-container {/* jupyter's `normalize.less` sets `[hidden] { display: none; }` but bootstrap.min.css set `[hidden] { display: none !important; }` so we also need the `!important` here to be able to override the default hidden behavior on the sphinx rendered scikit-learn.org. See: https://github.com/scikit-learn/scikit-learn/issues/21755 */display: inline-block !important;position: relative;}#sk-container-id-1 div.sk-text-repr-fallback {display: none;}</style><div id=\"sk-container-id-1\" class=\"sk-top-container\"><div class=\"sk-text-repr-fallback\"><pre>GridSearchCV(cv=5, estimator=RandomForestRegressor(),\n",
              "             param_grid={&#x27;max_depth&#x27;: [5, 10, 20],\n",
              "                         &#x27;min_samples_split&#x27;: [2, 5, 10],\n",
              "                         &#x27;n_estimators&#x27;: [50, 100, 200]},\n",
              "             scoring=&#x27;neg_root_mean_squared_error&#x27;, verbose=1)</pre><b>In a Jupyter environment, please rerun this cell to show the HTML representation or trust the notebook. <br />On GitHub, the HTML representation is unable to render, please try loading this page with nbviewer.org.</b></div><div class=\"sk-container\" hidden><div class=\"sk-item sk-dashed-wrapped\"><div class=\"sk-label-container\"><div class=\"sk-label sk-toggleable\"><input class=\"sk-toggleable__control sk-hidden--visually\" id=\"sk-estimator-id-1\" type=\"checkbox\" ><label for=\"sk-estimator-id-1\" class=\"sk-toggleable__label sk-toggleable__label-arrow\">GridSearchCV</label><div class=\"sk-toggleable__content\"><pre>GridSearchCV(cv=5, estimator=RandomForestRegressor(),\n",
              "             param_grid={&#x27;max_depth&#x27;: [5, 10, 20],\n",
              "                         &#x27;min_samples_split&#x27;: [2, 5, 10],\n",
              "                         &#x27;n_estimators&#x27;: [50, 100, 200]},\n",
              "             scoring=&#x27;neg_root_mean_squared_error&#x27;, verbose=1)</pre></div></div></div><div class=\"sk-parallel\"><div class=\"sk-parallel-item\"><div class=\"sk-item\"><div class=\"sk-label-container\"><div class=\"sk-label sk-toggleable\"><input class=\"sk-toggleable__control sk-hidden--visually\" id=\"sk-estimator-id-2\" type=\"checkbox\" ><label for=\"sk-estimator-id-2\" class=\"sk-toggleable__label sk-toggleable__label-arrow\">estimator: RandomForestRegressor</label><div class=\"sk-toggleable__content\"><pre>RandomForestRegressor()</pre></div></div></div><div class=\"sk-serial\"><div class=\"sk-item\"><div class=\"sk-estimator sk-toggleable\"><input class=\"sk-toggleable__control sk-hidden--visually\" id=\"sk-estimator-id-3\" type=\"checkbox\" ><label for=\"sk-estimator-id-3\" class=\"sk-toggleable__label sk-toggleable__label-arrow\">RandomForestRegressor</label><div class=\"sk-toggleable__content\"><pre>RandomForestRegressor()</pre></div></div></div></div></div></div></div></div></div></div>"
            ],
            "text/plain": [
              "GridSearchCV(cv=5, estimator=RandomForestRegressor(),\n",
              "             param_grid={'max_depth': [5, 10, 20],\n",
              "                         'min_samples_split': [2, 5, 10],\n",
              "                         'n_estimators': [50, 100, 200]},\n",
              "             scoring='neg_root_mean_squared_error', verbose=1)"
            ]
          },
          "execution_count": 20,
          "metadata": {},
          "output_type": "execute_result"
        }
      ],
      "source": [
        "\n",
        "\n",
        "# 넘파이 배열로 바꿔주기\n",
        "x_train_np = x_train.to_numpy()\n",
        "# x_test_np = x_test.to_numpy()\n",
        "y_train_np = y_train.to_numpy()\n",
        "# y_test_np = y_test.to_numpy()\n",
        "x_valid_np = x_valid.to_numpy()\n",
        "y_valid_np = y_valid.to_numpy()\n",
        "\n",
        "# 랜덤 포레스트 모델 설정\n",
        "cuml_rf = RandomForestRegressor()\n",
        "\n",
        "# 그리드 서치 파라미터 설정\n",
        "param_grid = {\n",
        "    'n_estimators': [50, 100, 200],  # 트리의 개수\n",
        "    'max_depth': [5, 10, 20],        # 트리의 최대 깊이\n",
        "    'min_samples_split': [2, 5, 10]  # 노드를 나누기 위한 최소 샘플 수\n",
        "}\n",
        "\n",
        "# 그리드 서치 모델 설정\n",
        "cuml_grid_search = GridSearchCV(estimator=cuml_rf, param_grid=param_grid, cv=5, scoring='neg_root_mean_squared_error', verbose=1)\n",
        "\n",
        "# 모델 적합\n",
        "cuml_grid_search.fit(x_train_np, y_train_np)\n"
      ]
    },
    {
      "cell_type": "code",
      "execution_count": null,
      "metadata": {
        "colab": {
          "base_uri": "https://localhost:8080/"
        },
        "id": "8BwONjBMYmdc",
        "outputId": "0fb43e8f-d684-40f1-ba42-5be3668b6161"
      },
      "outputs": [
        {
          "name": "stdout",
          "output_type": "stream",
          "text": [
            "{'max_depth': 20, 'min_samples_split': 5, 'n_estimators': 200}\n",
            "-0.21134483291811276\n",
            "Validation RMSE: 0.2121\n",
            "Validation R^2 Score: 0.4997\n"
          ]
        }
      ],
      "source": [
        "\n",
        "# 평가\n",
        "print(cuml_grid_search.best_params_)\n",
        "print(cuml_grid_search.best_score_)\n",
        "\n",
        "# Validation 세트에 대한 예측\n",
        "y_valid_pred = cuml_grid_search.predict(x_valid_np)\n",
        "\n",
        "# Validation 세트에 대한 평가 (RMSE)\n",
        "validation_rmse = numpy.sqrt(mean_squared_error(y_valid_np, y_valid_pred))\n",
        "print(f\"Validation RMSE: {validation_rmse:.4f}\")\n",
        "\n",
        "\n",
        "# Validation 세트에 대한 평가 (R^2 Score)\n",
        "validation_r2 = r2_score(y_valid_np, y_valid_pred)\n",
        "print(f\"Validation R^2 Score: {validation_r2:.4f}\")"
      ]
    },
    {
      "cell_type": "markdown",
      "metadata": {
        "id": "LkVdI3Cf6div"
      },
      "source": [
        "###  1.2 그리드 서치 파라미터 설정2\n",
        "    'n_estimators': [150, 200, 300],  # 트리의 개수\n",
        "    'max_depth': [10, 20, 30],        # 트리의 최대 깊이\n",
        "    'min_samples_split': [3, 5, 10]  # 노드를 나누기 위한 최소 샘플 수"
      ]
    },
    {
      "cell_type": "code",
      "execution_count": null,
      "metadata": {
        "colab": {
          "base_uri": "https://localhost:8080/",
          "height": 136
        },
        "id": "5jHDojlgGdld",
        "outputId": "930df832-a921-4996-a2b3-910b2af55904"
      },
      "outputs": [
        {
          "name": "stdout",
          "output_type": "stream",
          "text": [
            "Fitting 5 folds for each of 27 candidates, totalling 135 fits\n"
          ]
        },
        {
          "data": {
            "text/html": [
              "<style>#sk-container-id-1 {color: black;}#sk-container-id-1 pre{padding: 0;}#sk-container-id-1 div.sk-toggleable {background-color: white;}#sk-container-id-1 label.sk-toggleable__label {cursor: pointer;display: block;width: 100%;margin-bottom: 0;padding: 0.3em;box-sizing: border-box;text-align: center;}#sk-container-id-1 label.sk-toggleable__label-arrow:before {content: \"▸\";float: left;margin-right: 0.25em;color: #696969;}#sk-container-id-1 label.sk-toggleable__label-arrow:hover:before {color: black;}#sk-container-id-1 div.sk-estimator:hover label.sk-toggleable__label-arrow:before {color: black;}#sk-container-id-1 div.sk-toggleable__content {max-height: 0;max-width: 0;overflow: hidden;text-align: left;background-color: #f0f8ff;}#sk-container-id-1 div.sk-toggleable__content pre {margin: 0.2em;color: black;border-radius: 0.25em;background-color: #f0f8ff;}#sk-container-id-1 input.sk-toggleable__control:checked~div.sk-toggleable__content {max-height: 200px;max-width: 100%;overflow: auto;}#sk-container-id-1 input.sk-toggleable__control:checked~label.sk-toggleable__label-arrow:before {content: \"▾\";}#sk-container-id-1 div.sk-estimator input.sk-toggleable__control:checked~label.sk-toggleable__label {background-color: #d4ebff;}#sk-container-id-1 div.sk-label input.sk-toggleable__control:checked~label.sk-toggleable__label {background-color: #d4ebff;}#sk-container-id-1 input.sk-hidden--visually {border: 0;clip: rect(1px 1px 1px 1px);clip: rect(1px, 1px, 1px, 1px);height: 1px;margin: -1px;overflow: hidden;padding: 0;position: absolute;width: 1px;}#sk-container-id-1 div.sk-estimator {font-family: monospace;background-color: #f0f8ff;border: 1px dotted black;border-radius: 0.25em;box-sizing: border-box;margin-bottom: 0.5em;}#sk-container-id-1 div.sk-estimator:hover {background-color: #d4ebff;}#sk-container-id-1 div.sk-parallel-item::after {content: \"\";width: 100%;border-bottom: 1px solid gray;flex-grow: 1;}#sk-container-id-1 div.sk-label:hover label.sk-toggleable__label {background-color: #d4ebff;}#sk-container-id-1 div.sk-serial::before {content: \"\";position: absolute;border-left: 1px solid gray;box-sizing: border-box;top: 0;bottom: 0;left: 50%;z-index: 0;}#sk-container-id-1 div.sk-serial {display: flex;flex-direction: column;align-items: center;background-color: white;padding-right: 0.2em;padding-left: 0.2em;position: relative;}#sk-container-id-1 div.sk-item {position: relative;z-index: 1;}#sk-container-id-1 div.sk-parallel {display: flex;align-items: stretch;justify-content: center;background-color: white;position: relative;}#sk-container-id-1 div.sk-item::before, #sk-container-id-1 div.sk-parallel-item::before {content: \"\";position: absolute;border-left: 1px solid gray;box-sizing: border-box;top: 0;bottom: 0;left: 50%;z-index: -1;}#sk-container-id-1 div.sk-parallel-item {display: flex;flex-direction: column;z-index: 1;position: relative;background-color: white;}#sk-container-id-1 div.sk-parallel-item:first-child::after {align-self: flex-end;width: 50%;}#sk-container-id-1 div.sk-parallel-item:last-child::after {align-self: flex-start;width: 50%;}#sk-container-id-1 div.sk-parallel-item:only-child::after {width: 0;}#sk-container-id-1 div.sk-dashed-wrapped {border: 1px dashed gray;margin: 0 0.4em 0.5em 0.4em;box-sizing: border-box;padding-bottom: 0.4em;background-color: white;}#sk-container-id-1 div.sk-label label {font-family: monospace;font-weight: bold;display: inline-block;line-height: 1.2em;}#sk-container-id-1 div.sk-label-container {text-align: center;}#sk-container-id-1 div.sk-container {/* jupyter's `normalize.less` sets `[hidden] { display: none; }` but bootstrap.min.css set `[hidden] { display: none !important; }` so we also need the `!important` here to be able to override the default hidden behavior on the sphinx rendered scikit-learn.org. See: https://github.com/scikit-learn/scikit-learn/issues/21755 */display: inline-block !important;position: relative;}#sk-container-id-1 div.sk-text-repr-fallback {display: none;}</style><div id=\"sk-container-id-1\" class=\"sk-top-container\"><div class=\"sk-text-repr-fallback\"><pre>GridSearchCV(cv=5, estimator=RandomForestRegressor(),\n",
              "             param_grid={&#x27;max_depth&#x27;: [10, 20, 30],\n",
              "                         &#x27;min_samples_split&#x27;: [3, 5, 10],\n",
              "                         &#x27;n_estimators&#x27;: [150, 200, 300]},\n",
              "             scoring=&#x27;neg_root_mean_squared_error&#x27;, verbose=1)</pre><b>In a Jupyter environment, please rerun this cell to show the HTML representation or trust the notebook. <br />On GitHub, the HTML representation is unable to render, please try loading this page with nbviewer.org.</b></div><div class=\"sk-container\" hidden><div class=\"sk-item sk-dashed-wrapped\"><div class=\"sk-label-container\"><div class=\"sk-label sk-toggleable\"><input class=\"sk-toggleable__control sk-hidden--visually\" id=\"sk-estimator-id-1\" type=\"checkbox\" ><label for=\"sk-estimator-id-1\" class=\"sk-toggleable__label sk-toggleable__label-arrow\">GridSearchCV</label><div class=\"sk-toggleable__content\"><pre>GridSearchCV(cv=5, estimator=RandomForestRegressor(),\n",
              "             param_grid={&#x27;max_depth&#x27;: [10, 20, 30],\n",
              "                         &#x27;min_samples_split&#x27;: [3, 5, 10],\n",
              "                         &#x27;n_estimators&#x27;: [150, 200, 300]},\n",
              "             scoring=&#x27;neg_root_mean_squared_error&#x27;, verbose=1)</pre></div></div></div><div class=\"sk-parallel\"><div class=\"sk-parallel-item\"><div class=\"sk-item\"><div class=\"sk-label-container\"><div class=\"sk-label sk-toggleable\"><input class=\"sk-toggleable__control sk-hidden--visually\" id=\"sk-estimator-id-2\" type=\"checkbox\" ><label for=\"sk-estimator-id-2\" class=\"sk-toggleable__label sk-toggleable__label-arrow\">estimator: RandomForestRegressor</label><div class=\"sk-toggleable__content\"><pre>RandomForestRegressor()</pre></div></div></div><div class=\"sk-serial\"><div class=\"sk-item\"><div class=\"sk-estimator sk-toggleable\"><input class=\"sk-toggleable__control sk-hidden--visually\" id=\"sk-estimator-id-3\" type=\"checkbox\" ><label for=\"sk-estimator-id-3\" class=\"sk-toggleable__label sk-toggleable__label-arrow\">RandomForestRegressor</label><div class=\"sk-toggleable__content\"><pre>RandomForestRegressor()</pre></div></div></div></div></div></div></div></div></div></div>"
            ],
            "text/plain": [
              "GridSearchCV(cv=5, estimator=RandomForestRegressor(),\n",
              "             param_grid={'max_depth': [10, 20, 30],\n",
              "                         'min_samples_split': [3, 5, 10],\n",
              "                         'n_estimators': [150, 200, 300]},\n",
              "             scoring='neg_root_mean_squared_error', verbose=1)"
            ]
          },
          "execution_count": 15,
          "metadata": {},
          "output_type": "execute_result"
        }
      ],
      "source": [
        "\n",
        "\n",
        "# 넘파이 배열로 바꿔주기\n",
        "x_train_np = x_train.to_numpy()\n",
        "# x_test_np = x_test.to_numpy()\n",
        "y_train_np = y_train.to_numpy()\n",
        "# y_test_np = y_test.to_numpy()\n",
        "x_valid_np = x_valid.to_numpy()\n",
        "y_valid_np = y_valid.to_numpy()\n",
        "\n",
        "# 랜덤 포레스트 모델 설정\n",
        "cuml_rf = RandomForestRegressor()\n",
        "\n",
        "# 그리드 서치 파라미터 설정\n",
        "param_grid = {\n",
        "    'n_estimators': [150, 200, 300],  # 트리의 개수\n",
        "    'max_depth': [10, 20, 30],        # 트리의 최대 깊이\n",
        "    'min_samples_split': [3, 5, 10]  # 노드를 나누기 위한 최소 샘플 수\n",
        "}\n",
        "\n",
        "# 그리드 서치 모델 설정\n",
        "cuml_grid_search = GridSearchCV(estimator=cuml_rf, param_grid=param_grid, cv=5, scoring='neg_root_mean_squared_error', verbose=1)\n",
        "\n",
        "# 모델 적합\n",
        "cuml_grid_search.fit(x_train_np, y_train_np)\n"
      ]
    },
    {
      "cell_type": "code",
      "execution_count": null,
      "metadata": {
        "colab": {
          "base_uri": "https://localhost:8080/"
        },
        "id": "aw6GE9Uk6cK2",
        "outputId": "7fc4bbb4-330a-48d1-c0cd-78d24806bb2c"
      },
      "outputs": [
        {
          "name": "stdout",
          "output_type": "stream",
          "text": [
            "{'max_depth': 30, 'min_samples_split': 10, 'n_estimators': 300}\n",
            "-0.2107616957779283\n",
            "Validation RMSE: 0.2114\n",
            "Validation R^2 Score: 0.5031\n"
          ]
        }
      ],
      "source": [
        "\n",
        "# 평가\n",
        "print(cuml_grid_search.best_params_)\n",
        "print(cuml_grid_search.best_score_)\n",
        "\n",
        "# Validation 세트에 대한 예측\n",
        "y_valid_pred = cuml_grid_search.predict(x_valid_np)\n",
        "\n",
        "# Validation 세트에 대한 평가 (RMSE)\n",
        "validation_rmse = numpy.sqrt(mean_squared_error(y_valid_np, y_valid_pred))\n",
        "print(f\"Validation RMSE: {validation_rmse:.4f}\")\n",
        "\n",
        "\n",
        "# Validation 세트에 대한 평가 (R^2 Score)\n",
        "validation_r2 = r2_score(y_valid_np, y_valid_pred)\n",
        "print(f\"Validation R^2 Score: {validation_r2:.4f}\")"
      ]
    },
    {
      "cell_type": "markdown",
      "metadata": {
        "id": "YHW-b-7_GUw7"
      },
      "source": [
        "### 2.1 그리드 서치 파라미터 설정 + 변수추가\n",
        "* ['bar_ex_mort_year']=x_temp.total_bal_ex_mort/x_temp.annual_inc\n",
        "* ['bar_il_year']=x_temp.total_bal_il/x_temp.annual_inc\n",
        "* ['loan_year']=x_temp.loan_amnt/x_temp.annual_inc)\n",
        "      'n_estimators': [50, 100, 200],  # 트리의 개수\n",
        "      'max_depth': [5, 10, 20],        # 트리의 최대 깊이\n",
        "      'min_samples_split': [2, 5, 10]  # 노드를 나누기 위한 최소 샘플 수"
      ]
    },
    {
      "cell_type": "code",
      "execution_count": 19,
      "metadata": {
        "colab": {
          "base_uri": "https://localhost:8080/",
          "height": 136
        },
        "id": "cqNdHtT7Gwm1",
        "outputId": "c7cdb645-5890-44da-9a73-106983706f4d"
      },
      "outputs": [
        {
          "name": "stdout",
          "output_type": "stream",
          "text": [
            "Fitting 5 folds for each of 27 candidates, totalling 135 fits\n"
          ]
        },
        {
          "data": {
            "text/html": [
              "<style>#sk-container-id-1 {color: black;}#sk-container-id-1 pre{padding: 0;}#sk-container-id-1 div.sk-toggleable {background-color: white;}#sk-container-id-1 label.sk-toggleable__label {cursor: pointer;display: block;width: 100%;margin-bottom: 0;padding: 0.3em;box-sizing: border-box;text-align: center;}#sk-container-id-1 label.sk-toggleable__label-arrow:before {content: \"▸\";float: left;margin-right: 0.25em;color: #696969;}#sk-container-id-1 label.sk-toggleable__label-arrow:hover:before {color: black;}#sk-container-id-1 div.sk-estimator:hover label.sk-toggleable__label-arrow:before {color: black;}#sk-container-id-1 div.sk-toggleable__content {max-height: 0;max-width: 0;overflow: hidden;text-align: left;background-color: #f0f8ff;}#sk-container-id-1 div.sk-toggleable__content pre {margin: 0.2em;color: black;border-radius: 0.25em;background-color: #f0f8ff;}#sk-container-id-1 input.sk-toggleable__control:checked~div.sk-toggleable__content {max-height: 200px;max-width: 100%;overflow: auto;}#sk-container-id-1 input.sk-toggleable__control:checked~label.sk-toggleable__label-arrow:before {content: \"▾\";}#sk-container-id-1 div.sk-estimator input.sk-toggleable__control:checked~label.sk-toggleable__label {background-color: #d4ebff;}#sk-container-id-1 div.sk-label input.sk-toggleable__control:checked~label.sk-toggleable__label {background-color: #d4ebff;}#sk-container-id-1 input.sk-hidden--visually {border: 0;clip: rect(1px 1px 1px 1px);clip: rect(1px, 1px, 1px, 1px);height: 1px;margin: -1px;overflow: hidden;padding: 0;position: absolute;width: 1px;}#sk-container-id-1 div.sk-estimator {font-family: monospace;background-color: #f0f8ff;border: 1px dotted black;border-radius: 0.25em;box-sizing: border-box;margin-bottom: 0.5em;}#sk-container-id-1 div.sk-estimator:hover {background-color: #d4ebff;}#sk-container-id-1 div.sk-parallel-item::after {content: \"\";width: 100%;border-bottom: 1px solid gray;flex-grow: 1;}#sk-container-id-1 div.sk-label:hover label.sk-toggleable__label {background-color: #d4ebff;}#sk-container-id-1 div.sk-serial::before {content: \"\";position: absolute;border-left: 1px solid gray;box-sizing: border-box;top: 0;bottom: 0;left: 50%;z-index: 0;}#sk-container-id-1 div.sk-serial {display: flex;flex-direction: column;align-items: center;background-color: white;padding-right: 0.2em;padding-left: 0.2em;position: relative;}#sk-container-id-1 div.sk-item {position: relative;z-index: 1;}#sk-container-id-1 div.sk-parallel {display: flex;align-items: stretch;justify-content: center;background-color: white;position: relative;}#sk-container-id-1 div.sk-item::before, #sk-container-id-1 div.sk-parallel-item::before {content: \"\";position: absolute;border-left: 1px solid gray;box-sizing: border-box;top: 0;bottom: 0;left: 50%;z-index: -1;}#sk-container-id-1 div.sk-parallel-item {display: flex;flex-direction: column;z-index: 1;position: relative;background-color: white;}#sk-container-id-1 div.sk-parallel-item:first-child::after {align-self: flex-end;width: 50%;}#sk-container-id-1 div.sk-parallel-item:last-child::after {align-self: flex-start;width: 50%;}#sk-container-id-1 div.sk-parallel-item:only-child::after {width: 0;}#sk-container-id-1 div.sk-dashed-wrapped {border: 1px dashed gray;margin: 0 0.4em 0.5em 0.4em;box-sizing: border-box;padding-bottom: 0.4em;background-color: white;}#sk-container-id-1 div.sk-label label {font-family: monospace;font-weight: bold;display: inline-block;line-height: 1.2em;}#sk-container-id-1 div.sk-label-container {text-align: center;}#sk-container-id-1 div.sk-container {/* jupyter's `normalize.less` sets `[hidden] { display: none; }` but bootstrap.min.css set `[hidden] { display: none !important; }` so we also need the `!important` here to be able to override the default hidden behavior on the sphinx rendered scikit-learn.org. See: https://github.com/scikit-learn/scikit-learn/issues/21755 */display: inline-block !important;position: relative;}#sk-container-id-1 div.sk-text-repr-fallback {display: none;}</style><div id=\"sk-container-id-1\" class=\"sk-top-container\"><div class=\"sk-text-repr-fallback\"><pre>GridSearchCV(cv=5, estimator=RandomForestRegressor(),\n",
              "             param_grid={&#x27;max_depth&#x27;: [5, 10, 20],\n",
              "                         &#x27;min_samples_split&#x27;: [2, 5, 10],\n",
              "                         &#x27;n_estimators&#x27;: [50, 100, 200]},\n",
              "             scoring=&#x27;neg_root_mean_squared_error&#x27;, verbose=1)</pre><b>In a Jupyter environment, please rerun this cell to show the HTML representation or trust the notebook. <br />On GitHub, the HTML representation is unable to render, please try loading this page with nbviewer.org.</b></div><div class=\"sk-container\" hidden><div class=\"sk-item sk-dashed-wrapped\"><div class=\"sk-label-container\"><div class=\"sk-label sk-toggleable\"><input class=\"sk-toggleable__control sk-hidden--visually\" id=\"sk-estimator-id-1\" type=\"checkbox\" ><label for=\"sk-estimator-id-1\" class=\"sk-toggleable__label sk-toggleable__label-arrow\">GridSearchCV</label><div class=\"sk-toggleable__content\"><pre>GridSearchCV(cv=5, estimator=RandomForestRegressor(),\n",
              "             param_grid={&#x27;max_depth&#x27;: [5, 10, 20],\n",
              "                         &#x27;min_samples_split&#x27;: [2, 5, 10],\n",
              "                         &#x27;n_estimators&#x27;: [50, 100, 200]},\n",
              "             scoring=&#x27;neg_root_mean_squared_error&#x27;, verbose=1)</pre></div></div></div><div class=\"sk-parallel\"><div class=\"sk-parallel-item\"><div class=\"sk-item\"><div class=\"sk-label-container\"><div class=\"sk-label sk-toggleable\"><input class=\"sk-toggleable__control sk-hidden--visually\" id=\"sk-estimator-id-2\" type=\"checkbox\" ><label for=\"sk-estimator-id-2\" class=\"sk-toggleable__label sk-toggleable__label-arrow\">estimator: RandomForestRegressor</label><div class=\"sk-toggleable__content\"><pre>RandomForestRegressor()</pre></div></div></div><div class=\"sk-serial\"><div class=\"sk-item\"><div class=\"sk-estimator sk-toggleable\"><input class=\"sk-toggleable__control sk-hidden--visually\" id=\"sk-estimator-id-3\" type=\"checkbox\" ><label for=\"sk-estimator-id-3\" class=\"sk-toggleable__label sk-toggleable__label-arrow\">RandomForestRegressor</label><div class=\"sk-toggleable__content\"><pre>RandomForestRegressor()</pre></div></div></div></div></div></div></div></div></div></div>"
            ],
            "text/plain": [
              "GridSearchCV(cv=5, estimator=RandomForestRegressor(),\n",
              "             param_grid={'max_depth': [5, 10, 20],\n",
              "                         'min_samples_split': [2, 5, 10],\n",
              "                         'n_estimators': [50, 100, 200]},\n",
              "             scoring='neg_root_mean_squared_error', verbose=1)"
            ]
          },
          "execution_count": 19,
          "metadata": {},
          "output_type": "execute_result"
        }
      ],
      "source": [
        "\n",
        "\n",
        "# 넘파이 배열로 바꿔주기\n",
        "x_train_np = x_train.to_numpy()\n",
        "# x_test_np = x_test.to_numpy()\n",
        "y_train_np = y_train.to_numpy()\n",
        "# y_test_np = y_test.to_numpy()\n",
        "x_valid_np = x_valid.to_numpy()\n",
        "y_valid_np = y_valid.to_numpy()\n",
        "\n",
        "# 랜덤 포레스트 모델 설정\n",
        "cuml_rf = RandomForestRegressor()\n",
        "\n",
        "# 그리드 서치 파라미터 설정\n",
        "param_grid = {\n",
        "    'n_estimators': [50, 100, 200],  # 트리의 개수\n",
        "    'max_depth': [5, 10, 20],        # 트리의 최대 깊이\n",
        "    'min_samples_split': [2, 5, 10]  # 노드를 나누기 위한 최소 샘플 수\n",
        "}\n",
        "\n",
        "# 그리드 서치 모델 설정\n",
        "cuml_grid_search = GridSearchCV(estimator=cuml_rf, param_grid=param_grid, cv=5, scoring='neg_root_mean_squared_error', verbose=1)\n",
        "\n",
        "# 모델 적합\n",
        "cuml_grid_search.fit(x_train_np, y_train_np)\n"
      ]
    },
    {
      "cell_type": "code",
      "execution_count": 20,
      "metadata": {
        "colab": {
          "base_uri": "https://localhost:8080/"
        },
        "id": "boYIQw-t2kxU",
        "outputId": "62038410-6198-4a4f-877f-45945a05ed2e"
      },
      "outputs": [
        {
          "name": "stdout",
          "output_type": "stream",
          "text": [
            "Best Parameters: {'max_depth': 20, 'min_samples_split': 5, 'n_estimators': 200}\n",
            "Best Score (RMSE): 0.21182678516524608\n",
            "Validation MSE: 0.0451\n",
            "Validation R^2 Score: 0.4982\n",
            "Validation MAE: 0.1320\n"
          ]
        }
      ],
      "source": [
        "\n",
        "# 최적의 파라미터 및 점수 출력\n",
        "print(\"Best Parameters:\", cuml_grid_search.best_params_)\n",
        "print(\"Best Score (RMSE):\", -cuml_grid_search.best_score_)\n",
        "\n",
        "# Validation 세트에 대한 예측\n",
        "y_valid_pred = cuml_grid_search.predict(x_valid_np)\n",
        "\n",
        "# Validation 세트에 대한 평가 (MSE)\n",
        "validation_mse = mean_squared_error(y_valid_np, y_valid_pred)\n",
        "print(f\"Validation MSE: {validation_mse:.4f}\")\n",
        "\n",
        "# Validation 세트에 대한 평가 (R^2 Score)\n",
        "validation_r2 = r2_score(y_valid_np, y_valid_pred)\n",
        "print(f\"Validation R^2 Score: {validation_r2:.4f}\")\n",
        "\n",
        "# Validation 세트에 대한 평가 (MAE)\n",
        "validation_mae = mean_absolute_error(y_valid_np, y_valid_pred)\n",
        "print(f\"Validation MAE: {validation_mae:.4f}\")"
      ]
    },
    {
      "cell_type": "markdown",
      "metadata": {
        "id": "hQqYRwft3FGg"
      },
      "source": [
        "# 모델 학습 후 최적의 파라미터로 재학습"
      ]
    },
    {
      "cell_type": "code",
      "execution_count": 21,
      "metadata": {
        "colab": {
          "base_uri": "https://localhost:8080/",
          "height": 75
        },
        "id": "B7y_yuwc3JVO",
        "outputId": "4d0411d1-c235-41be-e011-f8016b872c94"
      },
      "outputs": [
        {
          "data": {
            "text/html": [
              "<style>#sk-container-id-2 {color: black;}#sk-container-id-2 pre{padding: 0;}#sk-container-id-2 div.sk-toggleable {background-color: white;}#sk-container-id-2 label.sk-toggleable__label {cursor: pointer;display: block;width: 100%;margin-bottom: 0;padding: 0.3em;box-sizing: border-box;text-align: center;}#sk-container-id-2 label.sk-toggleable__label-arrow:before {content: \"▸\";float: left;margin-right: 0.25em;color: #696969;}#sk-container-id-2 label.sk-toggleable__label-arrow:hover:before {color: black;}#sk-container-id-2 div.sk-estimator:hover label.sk-toggleable__label-arrow:before {color: black;}#sk-container-id-2 div.sk-toggleable__content {max-height: 0;max-width: 0;overflow: hidden;text-align: left;background-color: #f0f8ff;}#sk-container-id-2 div.sk-toggleable__content pre {margin: 0.2em;color: black;border-radius: 0.25em;background-color: #f0f8ff;}#sk-container-id-2 input.sk-toggleable__control:checked~div.sk-toggleable__content {max-height: 200px;max-width: 100%;overflow: auto;}#sk-container-id-2 input.sk-toggleable__control:checked~label.sk-toggleable__label-arrow:before {content: \"▾\";}#sk-container-id-2 div.sk-estimator input.sk-toggleable__control:checked~label.sk-toggleable__label {background-color: #d4ebff;}#sk-container-id-2 div.sk-label input.sk-toggleable__control:checked~label.sk-toggleable__label {background-color: #d4ebff;}#sk-container-id-2 input.sk-hidden--visually {border: 0;clip: rect(1px 1px 1px 1px);clip: rect(1px, 1px, 1px, 1px);height: 1px;margin: -1px;overflow: hidden;padding: 0;position: absolute;width: 1px;}#sk-container-id-2 div.sk-estimator {font-family: monospace;background-color: #f0f8ff;border: 1px dotted black;border-radius: 0.25em;box-sizing: border-box;margin-bottom: 0.5em;}#sk-container-id-2 div.sk-estimator:hover {background-color: #d4ebff;}#sk-container-id-2 div.sk-parallel-item::after {content: \"\";width: 100%;border-bottom: 1px solid gray;flex-grow: 1;}#sk-container-id-2 div.sk-label:hover label.sk-toggleable__label {background-color: #d4ebff;}#sk-container-id-2 div.sk-serial::before {content: \"\";position: absolute;border-left: 1px solid gray;box-sizing: border-box;top: 0;bottom: 0;left: 50%;z-index: 0;}#sk-container-id-2 div.sk-serial {display: flex;flex-direction: column;align-items: center;background-color: white;padding-right: 0.2em;padding-left: 0.2em;position: relative;}#sk-container-id-2 div.sk-item {position: relative;z-index: 1;}#sk-container-id-2 div.sk-parallel {display: flex;align-items: stretch;justify-content: center;background-color: white;position: relative;}#sk-container-id-2 div.sk-item::before, #sk-container-id-2 div.sk-parallel-item::before {content: \"\";position: absolute;border-left: 1px solid gray;box-sizing: border-box;top: 0;bottom: 0;left: 50%;z-index: -1;}#sk-container-id-2 div.sk-parallel-item {display: flex;flex-direction: column;z-index: 1;position: relative;background-color: white;}#sk-container-id-2 div.sk-parallel-item:first-child::after {align-self: flex-end;width: 50%;}#sk-container-id-2 div.sk-parallel-item:last-child::after {align-self: flex-start;width: 50%;}#sk-container-id-2 div.sk-parallel-item:only-child::after {width: 0;}#sk-container-id-2 div.sk-dashed-wrapped {border: 1px dashed gray;margin: 0 0.4em 0.5em 0.4em;box-sizing: border-box;padding-bottom: 0.4em;background-color: white;}#sk-container-id-2 div.sk-label label {font-family: monospace;font-weight: bold;display: inline-block;line-height: 1.2em;}#sk-container-id-2 div.sk-label-container {text-align: center;}#sk-container-id-2 div.sk-container {/* jupyter's `normalize.less` sets `[hidden] { display: none; }` but bootstrap.min.css set `[hidden] { display: none !important; }` so we also need the `!important` here to be able to override the default hidden behavior on the sphinx rendered scikit-learn.org. See: https://github.com/scikit-learn/scikit-learn/issues/21755 */display: inline-block !important;position: relative;}#sk-container-id-2 div.sk-text-repr-fallback {display: none;}</style><div id=\"sk-container-id-2\" class=\"sk-top-container\"><div class=\"sk-text-repr-fallback\"><pre>RandomForestRegressor()</pre><b>In a Jupyter environment, please rerun this cell to show the HTML representation or trust the notebook. <br />On GitHub, the HTML representation is unable to render, please try loading this page with nbviewer.org.</b></div><div class=\"sk-container\" hidden><div class=\"sk-item\"><div class=\"sk-estimator sk-toggleable\"><input class=\"sk-toggleable__control sk-hidden--visually\" id=\"sk-estimator-id-4\" type=\"checkbox\" checked><label for=\"sk-estimator-id-4\" class=\"sk-toggleable__label sk-toggleable__label-arrow\">RandomForestRegressor</label><div class=\"sk-toggleable__content\"><pre>RandomForestRegressor()</pre></div></div></div></div></div>"
            ],
            "text/plain": [
              "RandomForestRegressor()"
            ]
          },
          "execution_count": 21,
          "metadata": {},
          "output_type": "execute_result"
        }
      ],
      "source": [
        "from sklearn.ensemble import RandomForestRegressor  # scikit-learn의 RandomForestRegressor 사용\n",
        "import shap\n",
        "\n",
        "# scikit-learn의 RandomForestRegressor로 모델 재학습\n",
        "best_rf_sklearn = RandomForestRegressor(\n",
        "    n_estimators=cuml_grid_search.best_params_['n_estimators'],\n",
        "    max_depth=cuml_grid_search.best_params_['max_depth'],\n",
        "    min_samples_split=cuml_grid_search.best_params_['min_samples_split'],\n",
        "    random_state=1  # 재현성을 위한 random_state 설정\n",
        ")\n",
        "\n",
        "best_rf_sklearn.fit(x_train_np, y_train_np)\n",
        "\n",
        "# Validation 세트에 대한 예측 및 평가 (이미 작성된 코드)\n"
      ]
    },
    {
      "cell_type": "code",
      "execution_count": 22,
      "metadata": {
        "colab": {
          "base_uri": "https://localhost:8080/"
        },
        "id": "8YqwyxQm3NWP",
        "outputId": "44b6d0eb-4fab-4107-e55c-c524d6f6d81f"
      },
      "outputs": [
        {
          "name": "stdout",
          "output_type": "stream",
          "text": [
            "Validation MSE: 0.0451\n",
            "Validation R^2 Score: 0.4981\n",
            "Validation MAE: 0.1319\n"
          ]
        }
      ],
      "source": [
        "# Validation 세트에 대한 예측\n",
        "y_valid_pred = best_rf_sklearn.predict(x_valid_np)  # best_rf_sklearn를 사용하여 예측합니다.\n",
        "\n",
        "# Validation 세트에 대한 평가 (MSE)\n",
        "validation_mse = mean_squared_error(y_valid_np, y_valid_pred)\n",
        "print(f\"Validation MSE: {validation_mse:.4f}\")\n",
        "\n",
        "# Validation 세트에 대한 평가 (R^2 Score)\n",
        "validation_r2 = r2_score(y_valid_np, y_valid_pred)\n",
        "print(f\"Validation R^2 Score: {validation_r2:.4f}\")\n",
        "\n",
        "# Validation 세트에 대한 평가 (MAE)\n",
        "validation_mae = mean_absolute_error(y_valid_np, y_valid_pred)\n",
        "print(f\"Validation MAE: {validation_mae:.4f}\")"
      ]
    },
    {
      "cell_type": "markdown",
      "metadata": {
        "id": "9tBfyAnv3fWa"
      },
      "source": [
        "# Permutation Importance"
      ]
    },
    {
      "cell_type": "code",
      "execution_count": 23,
      "metadata": {
        "colab": {
          "base_uri": "https://localhost:8080/"
        },
        "id": "n3zDfNQ83erS",
        "outputId": "6d12a167-9479-47d7-f103-8f30b4ebcee6"
      },
      "outputs": [
        {
          "name": "stdout",
          "output_type": "stream",
          "text": [
            "\n",
            "Permutation Importance:\n",
            "last_fico_range_high: 0.1088\n",
            "int_rate: 0.0152\n",
            "term: 0.0089\n",
            "sub_grade: 0.0083\n",
            "loan_year: 0.0020\n",
            "all_util: 0.0016\n",
            "installment: 0.0015\n",
            "max_bal_bc: 0.0013\n",
            "tot_hi_cred_lim: 0.0010\n",
            "tot_cur_bal: 0.0009\n",
            "bar_il_year: 0.0008\n",
            "mths_since_rcnt_il: 0.0007\n",
            "total_bal_il: 0.0007\n",
            "dti: 0.0007\n",
            "il_util: 0.0007\n",
            "avg_cur_bal: 0.0006\n",
            "fico_range_high: 0.0006\n",
            "total_bc_limit: 0.0005\n",
            "total_rev_hi_lim: 0.0005\n",
            "bc_open_to_buy: 0.0005\n",
            "total_bal_ex_mort: 0.0005\n",
            "inq_last_12m: 0.0004\n",
            "bar_ex_mort_year: 0.0004\n",
            "total_il_high_credit_limit: 0.0004\n",
            "acc_open_past_24mths: 0.0004\n",
            "annual_inc: 0.0004\n",
            "bc_util: 0.0004\n",
            "revol_util: 0.0003\n",
            "total_acc: 0.0003\n",
            "open_act_il: 0.0003\n",
            "emp_length: 0.0003\n",
            "mort_acc: 0.0003\n",
            "open_il_24m: 0.0003\n",
            "num_rev_accts: 0.0002\n",
            "open_rv_12m: 0.0002\n",
            "mo_sin_old_rev_tl_op: 0.0002\n",
            "num_sats: 0.0002\n",
            "num_op_rev_tl: 0.0002\n",
            "num_tl_op_past_12m: 0.0002\n",
            "percent_bc_gt_75: 0.0002\n",
            "num_rev_tl_bal_gt_0: 0.0002\n",
            "sec_app_fico_range_low: 0.0002\n",
            "sec_app_fico_range_high: 0.0002\n",
            "open_acc: 0.0002\n",
            "num_il_tl: 0.0002\n",
            "num_actv_rev_tl: 0.0002\n",
            "revol_bal_joint: 0.0002\n",
            "sec_app_num_rev_accts: 0.0002\n",
            "pct_tl_nvr_dlq: 0.0002\n",
            "num_bc_tl: 0.0001\n",
            "sec_app_open_acc: 0.0001\n",
            "RENT: 0.0001\n",
            "mo_sin_rcnt_tl: 0.0001\n",
            "num_bc_sats: 0.0001\n",
            "w: 0.0001\n",
            "mths_since_recent_bc: 0.0001\n",
            "f: 0.0001\n",
            "mo_sin_rcnt_rev_tl_op: 0.0001\n",
            "open_acc_6m: 0.0001\n",
            "sec_app_revol_util: 0.0001\n",
            "num_actv_bc_tl: 0.0001\n",
            "mths_since_recent_inq: 0.0001\n",
            "mo_sin_old_il_acct: 0.0001\n",
            "dti_joint: 0.0001\n",
            "open_il_12m: 0.0001\n",
            "MORTGAGE: 0.0001\n",
            "annual_inc_joint: 0.0001\n",
            "sec_app_open_act_il: 0.0001\n",
            "Not Verified: 0.0001\n",
            "0: 0.0001\n",
            "mths_since_last_delinq: 0.0001\n",
            "mths_since_recent_revol_delinq: 0.0000\n",
            "total_cu_tl: 0.0000\n",
            "sec_app_inq_last_6mths: 0.0000\n",
            "num_accts_ever_120_pd: 0.0000\n",
            "pub_rec_bankruptcies: 0.0000\n",
            "mths_since_last_major_derog: 0.0000\n",
            "Individual: 0.0000\n",
            "Joint App: 0.0000\n",
            "sec_app_mort_acc: 0.0000\n",
            "mths_since_recent_bc_dlq: 0.0000\n",
            "Verified: 0.0000\n",
            "credit_card: 0.0000\n",
            "delinq_2yrs: 0.0000\n",
            "pub_rec: 0.0000\n",
            "Source Verified: 0.0000\n",
            "debt_consolidation: 0.0000\n",
            "medical: 0.0000\n",
            "Source Verified: 0.0000\n",
            "OWN: 0.0000\n",
            "loan_amnt: 0.0000\n",
            "sec_app_collections_12_mths_ex_med: 0.0000\n",
            "small_business: 0.0000\n",
            "home_improvement: 0.0000\n",
            "vacation: 0.0000\n",
            "moving: 0.0000\n",
            "car: 0.0000\n",
            "collections_12_mths_ex_med: 0.0000\n",
            "delinq_amnt: 0.0000\n",
            "num_tl_90g_dpd_24m: 0.0000\n",
            "acc_now_delinq: 0.0000\n",
            "OTHER: -0.0000\n",
            "NONE: -0.0000\n",
            "ANY: -0.0000\n",
            "wedding: -0.0000\n",
            "renewable_energy: -0.0000\n",
            "house: -0.0000\n",
            "tax_liens: -0.0000\n",
            "major_purchase: -0.0000\n",
            "Not Verified: -0.0000\n",
            "chargeoff_within_12_mths: -0.0000\n",
            "Verified: -0.0000\n",
            "other: -0.0000\n"
          ]
        }
      ],
      "source": [
        "# 1. Permutation Importance\n",
        "perm_importance = permutation_importance(best_rf_sklearn, x_valid_np, y_valid_np, n_repeats=10, random_state=1, scoring='neg_root_mean_squared_error')\n",
        "\n",
        "# 중요도 출력\n",
        "feature_names = x_train.columns\n",
        "perm_sorted_idx = perm_importance.importances_mean.argsort()\n",
        "\n",
        "print(\"\\nPermutation Importance:\")\n",
        "for i in perm_sorted_idx[::-1]:\n",
        "    print(f\"{feature_names[i]}: {perm_importance.importances_mean[i]:.4f}\")"
      ]
    },
    {
      "cell_type": "markdown",
      "metadata": {
        "id": "ZJVfA14W3oKF"
      },
      "source": [
        "# SHAP Values"
      ]
    },
    {
      "cell_type": "code",
      "execution_count": null,
      "metadata": {
        "id": "z2YmBvRNE4CM"
      },
      "outputs": [],
      "source": [
        "\n",
        "# SHAP 값 계산 및 시각화\n",
        "explainer = shap.TreeExplainer(best_rf_sklearn)\n",
        "shap_values = explainer.shap_values(x_valid_np)\n",
        "\n",
        "# SHAP 값 시각화\n",
        "print(\"\\nSHAP Summary Plot:\")\n",
        "shap.summary_plot(shap_values, x_valid_np, feature_names=x_train.columns)\n",
        "\n",
        "print(\"\\nSHAP Dependence Plot:\")\n",
        "# Example for a single feature\n",
        "shap.dependence_plot('int_rate', shap_values, x_valid_np, feature_names=x_train.columns)"
      ]
    },
    {
      "cell_type": "code",
      "execution_count": null,
      "metadata": {
        "id": "opf7-nMPEmFV"
      },
      "outputs": [],
      "source": []
    }
  ],
  "metadata": {
    "accelerator": "GPU",
    "colab": {
      "collapsed_sections": [
        "VB4CdUX56Uv8",
        "LkVdI3Cf6div",
        "YHW-b-7_GUw7",
        "hQqYRwft3FGg",
        "9tBfyAnv3fWa",
        "ZJVfA14W3oKF"
      ],
      "gpuType": "A100",
      "machine_shape": "hm",
      "provenance": []
    },
    "kernelspec": {
      "display_name": "Python 3",
      "name": "python3"
    },
    "language_info": {
      "codemirror_mode": {
        "name": "ipython",
        "version": 3
      },
      "file_extension": ".py",
      "mimetype": "text/x-python",
      "name": "python",
      "nbconvert_exporter": "python",
      "pygments_lexer": "ipython3",
      "version": "3.11.9"
    }
  },
  "nbformat": 4,
  "nbformat_minor": 0
}
